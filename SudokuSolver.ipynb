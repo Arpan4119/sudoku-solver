{
  "nbformat": 4,
  "nbformat_minor": 0,
  "metadata": {
    "colab": {
      "provenance": []
    },
    "kernelspec": {
      "name": "python3",
      "display_name": "Python 3"
    },
    "language_info": {
      "name": "python"
    }
  },
  "cells": [
    {
      "cell_type": "markdown",
      "source": [
        "# Sudoku Solver"
      ],
      "metadata": {
        "id": "AciAQW3Kj96s"
      }
    },
    {
      "cell_type": "code",
      "source": [
        "import os\n",
        "import platform"
      ],
      "metadata": {
        "id": "g7M_VNBci8q6"
      },
      "execution_count": 1,
      "outputs": []
    },
    {
      "cell_type": "markdown",
      "source": [
        "- **os module:** Provides functions for interacting with the operating system, like executing commands (`os.system()`) and manipulating files (`os.listdir()`).\n",
        "- **platform module:** Provides functions to retrieve platform-specific information such as the operating system name (`platform.system()`) and machine type (`platform.machine()`)."
      ],
      "metadata": {
        "id": "ZfFC0kYok5i0"
      }
    },
    {
      "cell_type": "code",
      "source": [
        "CLEAR_COMMAND = 'cls' if platform.system() == 'Windows' else 'clear'\n",
        "\n",
        "def clear_screen():\n",
        "    os.system(CLEAR_COMMAND)"
      ],
      "metadata": {
        "id": "a7v-X2AOkqbD"
      },
      "execution_count": 2,
      "outputs": []
    },
    {
      "cell_type": "markdown",
      "source": [
        "- **CLEAR_COMMAND:** Sets `'cls'` for Windows or `'clear'` for Unix-like systems based on the platform detected by `platform.system()`.\n",
        "- **clear_screen():** Executes the appropriate command (`'cls'` or `'clear'`) using `os.system()` to clear the console screen."
      ],
      "metadata": {
        "id": "_t6olKkZk-Mt"
      }
    },
    {
      "cell_type": "code",
      "source": [
        "def load_puzzle_data(grid_size, percentage):\n",
        "    filename = 'pattern.txt'\n",
        "    target_label = f'{grid_size}x{grid_size} {percentage}% puzzles'\n",
        "\n",
        "    with open(filename, 'r') as file:\n",
        "        content = file.read()\n",
        "        puzzles = content.split('\\n\\n')  # Each puzzle is separated by two newline characters\n",
        "\n",
        "    for puzzle_section in puzzles:\n",
        "        if target_label in puzzle_section:\n",
        "            puzzle_lines = puzzle_section.split('\\n')\n",
        "            puzzle = ''.join(puzzle_lines[1])\n",
        "            return puzzle\n",
        "\n",
        "    print(f\"No puzzle found for size {grid_size} and percentage {percentage}.\")\n",
        "    return \"\"\n",
        "\n",
        "# Function to get user input for grid size or percentage\n",
        "def get_user_input(prompt, valid_inputs):\n",
        "    while True:\n",
        "        try:\n",
        "            user_input = int(input(prompt))\n",
        "            if user_input in valid_inputs:\n",
        "                return user_input\n",
        "            else:\n",
        "                print(f\"Invalid input. Please enter one of: {', '.join(map(str, valid_inputs))}\")\n",
        "        except ValueError:\n",
        "            print(\"Invalid input. Please enter a number.\")"
      ],
      "metadata": {
        "id": "mRxkOnDHiwjs"
      },
      "execution_count": 3,
      "outputs": []
    },
    {
      "cell_type": "markdown",
      "source": [
        "- **load_puzzle_data(grid_size, percentage):** Loads puzzle data from a file (`pattern.txt`) based on specified grid size and percentage, returning the puzzle as a string or an empty string if not found.\n",
        "  \n",
        "- **get_user_input(prompt, valid_inputs):** Prompts the user with a message (`prompt`) and validates input against a list of valid values (`valid_inputs`), ensuring the input is an integer and within the valid range."
      ],
      "metadata": {
        "id": "fqjSeu3WlOgJ"
      }
    },
    {
      "cell_type": "code",
      "source": [
        "def solve_sudoku(board, grid_size):\n",
        "    def is_valid(board, num, pos):\n",
        "        # Check row and column constraints\n",
        "        for i in range(grid_size):\n",
        "            if board[pos[0]][i] == num and pos[1] != i:\n",
        "                return False\n",
        "            if board[i][pos[1]] == num and pos[0] != i:\n",
        "                return False\n",
        "\n",
        "        # Check subgrid constraints\n",
        "        subgrid_size = int(grid_size ** 0.5)\n",
        "        subgrid_x = pos[1] // subgrid_size\n",
        "        subgrid_y = pos[0] // subgrid_size\n",
        "\n",
        "        for i in range(subgrid_y * subgrid_size, subgrid_y * subgrid_size + subgrid_size):\n",
        "            for j in range(subgrid_x * subgrid_size, subgrid_x * subgrid_size + subgrid_size):\n",
        "                if board[i][j] == num and (i, j) != pos:\n",
        "                    return False\n",
        "\n",
        "        return True\n",
        "\n",
        "    # Find an empty cell in the Sudoku grid\n",
        "    def find_empty_cell(board):\n",
        "        for i in range(grid_size):\n",
        "            for j in range(grid_size):\n",
        "                if board[i][j] == 0:\n",
        "                    return (i, j)\n",
        "        return None\n",
        "\n",
        "    # Backtracking algorithm to solve Sudoku\n",
        "    def backtrack(board):\n",
        "        empty_cell = find_empty_cell(board)\n",
        "        if not empty_cell:\n",
        "            return True\n",
        "        else:\n",
        "            row, col = empty_cell\n",
        "\n",
        "        for num in range(1, grid_size + 1):\n",
        "            if is_valid(board, num, (row, col)):\n",
        "                board[row][col] = num\n",
        "\n",
        "                if backtrack(board):\n",
        "                    return True\n",
        "\n",
        "                board[row][col] = 0\n",
        "\n",
        "        return False\n",
        "\n",
        "    return backtrack(board)"
      ],
      "metadata": {
        "id": "8xV4npsQjVc0"
      },
      "execution_count": 4,
      "outputs": []
    },
    {
      "cell_type": "markdown",
      "source": [
        "This function `solve_sudoku(board, grid_size)` uses a backtracking algorithm to solve a Sudoku puzzle of any specified grid size. Here's a brief description:\n",
        "\n",
        "- **is_valid(board, num, pos):** Nested function that checks if placing `num` in position `pos` on the Sudoku `board` is valid based on Sudoku rules (no repetition in row, column, or subgrid).\n",
        "\n",
        "- **find_empty_cell(board):** Nested function that finds an empty cell (represented by `0`) in the Sudoku `board`.\n",
        "\n",
        "- **backtrack(board):** Recursive function that attempts to solve the Sudoku puzzle:\n",
        "  - Base case: If no empty cell is found (`find_empty_cell` returns `None`), the puzzle is solved (`True` is returned).\n",
        "  - Recursive case: Tries placing numbers (`1` to `grid_size`) in the empty cell and recursively attempts to solve the rest of the puzzle.\n",
        "    - If placing a number leads to a valid solution (`backtrack` returns `True`), the puzzle is solved.\n",
        "    - If not, the cell is reset (`board[row][col] = 0`) and another number is tried.\n",
        "\n",
        "- **solve_sudoku(board, grid_size):** Main function that initializes and calls `backtrack(board)` to solve the Sudoku puzzle `board` of size `grid_size x grid_size`. Returns `True` if a solution is found, `False` otherwise."
      ],
      "metadata": {
        "id": "nfGxJhtnleN3"
      }
    },
    {
      "cell_type": "code",
      "source": [
        "def is_solution_valid(board, grid_size):\n",
        "    def is_valid(board, num, pos):\n",
        "        # Check row and column constraints\n",
        "        for i in range(grid_size):\n",
        "            if board[pos[0]][i] == num and pos[1] != i:\n",
        "                return False\n",
        "            if board[i][pos[1]] == num and pos[0] != i:\n",
        "                return False\n",
        "\n",
        "        # Check subgrid constraints\n",
        "        subgrid_size = int(grid_size ** 0.5)\n",
        "        subgrid_x = pos[1] // subgrid_size\n",
        "        subgrid_y = pos[0] // subgrid_size\n",
        "\n",
        "        for i in range(subgrid_y * subgrid_size, subgrid_y * subgrid_size + subgrid_size):\n",
        "            for j in range(subgrid_x * subgrid_size, subgrid_x * subgrid_size + subgrid_size):\n",
        "                if board[i][j] == num and (i, j) != pos:\n",
        "                    return False\n",
        "\n",
        "        return True\n",
        "\n",
        "    # Check each cell in the board\n",
        "    for i in range(grid_size):\n",
        "        for j in range(grid_size):\n",
        "            if board[i][j] == 0 or not is_valid(board, board[i][j], (i, j)):\n",
        "                return False\n",
        "\n",
        "    return True"
      ],
      "metadata": {
        "id": "xa6BAGGjjtjN"
      },
      "execution_count": 5,
      "outputs": []
    },
    {
      "cell_type": "markdown",
      "source": [
        "This function `is_solution_valid(board, grid_size)` checks if a solved Sudoku `board` of a specified `grid_size` is valid according to Sudoku rules. Here's a brief description:\n",
        "\n",
        "- **is_valid(board, num, pos):** Nested function that checks if placing `num` in position `pos` on the Sudoku `board` is valid based on Sudoku rules:\n",
        "  - Checks for no repetition of `num` in the same row, column, or subgrid (subgrid size calculated as square root of `grid_size`).\n",
        "\n",
        "- **is_solution_valid(board, grid_size):**\n",
        "  - Iterates through each cell in the Sudoku `board`.\n",
        "  - Checks if each cell is non-zero (`board[i][j] != 0`) and if placing that number in its position is valid using `is_valid`.\n",
        "  - Returns `True` if all cells are valid according to Sudoku rules; otherwise, returns `False`."
      ],
      "metadata": {
        "id": "9_u0Mpwkl5kP"
      }
    },
    {
      "cell_type": "code",
      "source": [
        "def print_sudoku(board, grid_size):\n",
        "    for i in range(grid_size):\n",
        "        if i > 0 and i % int(grid_size ** 0.5) == 0:\n",
        "            print(\"-\" * (grid_size * 2 + int(grid_size ** 0.5) - 1))\n",
        "\n",
        "        for j in range(grid_size):\n",
        "            if j > 0 and j % int(grid_size ** 0.5) == 0:\n",
        "                print(\"| \", end=\"\")\n",
        "\n",
        "            if j == grid_size - 1:\n",
        "                if board[i][j] == 0:\n",
        "                    print(\" \")\n",
        "                else:\n",
        "                    print(board[i][j])\n",
        "            else:\n",
        "                if board[i][j] == 0:\n",
        "                    print(\" \" + \" \", end=\"\")\n",
        "                else:\n",
        "                    print(str(board[i][j]) + \" \", end=\"\")"
      ],
      "metadata": {
        "id": "8LUbTYmTj3hw"
      },
      "execution_count": 6,
      "outputs": []
    },
    {
      "cell_type": "markdown",
      "source": [
        "This function `print_sudoku(board, grid_size)` prints a Sudoku `board` of a specified `grid_size` in a formatted manner:\n",
        "\n",
        "- **Functionality:**\n",
        "  - Iterates through each cell in the Sudoku board.\n",
        "  - Prints each number in the board, with spaces and separators (`|` and `-`) to visually separate subgrids and rows according to Sudoku grid rules.\n",
        "\n",
        "- **Details:**\n",
        "  - Prints horizontal lines (`-`) to separate subgrids after every square root of `grid_size` rows (`int(grid_size ** 0.5)`).\n",
        "  - Prints vertical separators (`|`) to separate subgrids after every square root of `grid_size` columns (`int(grid_size ** 0.5)`).\n",
        "  - Prints each number in the board, replacing `0` with a space to indicate empty cells."
      ],
      "metadata": {
        "id": "OcbWyhWXmD2E"
      }
    },
    {
      "cell_type": "code",
      "source": [
        "def main():\n",
        "    clear_screen()\n",
        "    print(\"Welcome to Sudoku Solver!\\n\")\n",
        "\n",
        "    # Get user inputs for grid size and percentage of input\n",
        "    grid_size = get_user_input(\"Enter the size of the Sudoku grid (4 or 9): \", [4, 9])\n",
        "    percentage = get_user_input(\"Enter the percentage of input you want (30 or 70): \", [30, 70])\n",
        "\n",
        "    # Load puzzle based on user input\n",
        "    puzzle = load_puzzle_data(grid_size, percentage)\n",
        "\n",
        "    # Initialize the Sudoku grid\n",
        "    sudoku = []\n",
        "    row = []\n",
        "\n",
        "    # Convert puzzle string to a 2D list\n",
        "    for i in range(len(puzzle)):\n",
        "        row.append(int(puzzle[i]))\n",
        "        if (i + 1) % grid_size == 0:\n",
        "            sudoku.append(row)\n",
        "            row = []\n",
        "\n",
        "    # Display the initial problem\n",
        "    clear_screen()\n",
        "    print(\"\\nProblem: \\n\")\n",
        "    print_sudoku(sudoku, grid_size)\n",
        "\n",
        "    # Wait for user input before displaying the solution\n",
        "    input(\"\\nPress Enter to See the Solution...\")\n",
        "\n",
        "    # Solve the Sudoku puzzle\n",
        "    if solve_sudoku(sudoku, grid_size):\n",
        "        clear_screen()\n",
        "        print(\"\\nSolution: \\n\")\n",
        "        print_sudoku(sudoku, grid_size)\n",
        "\n",
        "        # Verify the solution\n",
        "        if is_solution_valid(sudoku, grid_size):\n",
        "            print(\"\\nThe solution is verified.\")\n",
        "        else:\n",
        "            print(\"\\nYour solution is incorrect. Please try again.\")\n",
        "    else:\n",
        "        print(\"\\nNo solution found for this Sudoku puzzle.\")"
      ],
      "metadata": {
        "id": "FauuqUYMjpfk"
      },
      "execution_count": 7,
      "outputs": []
    },
    {
      "cell_type": "markdown",
      "source": [
        "This Python `main()` function provides a complete workflow for solving and verifying a Sudoku puzzle:\n",
        "\n",
        "- **Functionality:**\n",
        "  - Clears the screen and greets the user.\n",
        "  - Prompts the user to enter the grid size (4 or 9) and the percentage of initially filled cells (30 or 70).\n",
        "  - Loads a Sudoku puzzle based on user input and initializes the Sudoku grid.\n",
        "  - Displays the initial puzzle using `print_sudoku()`.\n",
        "  - Waits for the user to press Enter before solving the puzzle.\n",
        "  - Attempts to solve the Sudoku puzzle using `solve_sudoku()` and displays the solution if found.\n",
        "  - Verifies the solution's validity using `is_solution_valid()` and provides appropriate feedback.\n",
        "  - Handles cases where no solution is found for the puzzle."
      ],
      "metadata": {
        "id": "I-jCHrhlmSVP"
      }
    },
    {
      "cell_type": "code",
      "source": [
        "if __name__ == \"__main__\":\n",
        "    main()"
      ],
      "metadata": {
        "colab": {
          "base_uri": "https://localhost:8080/"
        },
        "id": "VF1D7JGCj7BJ",
        "outputId": "3235fa78-70b3-4c20-d813-586cf757ec20"
      },
      "execution_count": 8,
      "outputs": [
        {
          "output_type": "stream",
          "name": "stdout",
          "text": [
            "Welcome to Sudoku Solver!\n",
            "\n",
            "Enter the size of the Sudoku grid (4 or 9): 9\n",
            "Enter the percentage of input you want (30 or 70): 70\n",
            "\n",
            "Problem: \n",
            "\n",
            "  4 5 | 8 1 3 |   2  \n",
            "9 7 1 | 2 6 5 | 3   8\n",
            "  2 8 | 9 7   |   6 5\n",
            "--------------------\n",
            "1   4 |   2 8 | 6 3  \n",
            "    3 | 1   9 | 5 8 2\n",
            "5   2 |   3   | 9    \n",
            "--------------------\n",
            "4   9 | 7   6 | 2   3\n",
            "  5 6 |     2 | 4 7 1\n",
            "2 3 7 | 4 5 1 | 8 9  \n",
            "\n",
            "Press Enter to See the Solution...\n",
            "\n",
            "Solution: \n",
            "\n",
            "6 4 5 | 8 1 3 | 7 2 9\n",
            "9 7 1 | 2 6 5 | 3 4 8\n",
            "3 2 8 | 9 7 4 | 1 6 5\n",
            "--------------------\n",
            "1 9 4 | 5 2 8 | 6 3 7\n",
            "7 6 3 | 1 4 9 | 5 8 2\n",
            "5 8 2 | 6 3 7 | 9 1 4\n",
            "--------------------\n",
            "4 1 9 | 7 8 6 | 2 5 3\n",
            "8 5 6 | 3 9 2 | 4 7 1\n",
            "2 3 7 | 4 5 1 | 8 9 6\n",
            "\n",
            "The solution is verified.\n"
          ]
        }
      ]
    }
  ]
}